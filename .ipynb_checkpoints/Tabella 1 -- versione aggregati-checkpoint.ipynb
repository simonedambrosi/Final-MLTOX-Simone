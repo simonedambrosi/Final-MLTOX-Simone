{
 "cells": [
  {
   "cell_type": "code",
   "execution_count": 1,
   "metadata": {},
   "outputs": [],
   "source": [
    "from helper_knn import *\n",
    "\n",
    "db = pd.read_csv('lc_db_processed.csv').drop(columns = 'Unnamed: 0')\n",
    "\n",
    "db = pd.concat([db,\n",
    "                pd.DataFrame(pd.DataFrame(db['pubchem2d'].values).\\\n",
    "                             apply(lambda x: x.str.replace('', ' ').str.strip().str.split(' '), \n",
    "                                                                        axis = 1)[0].to_list(),\n",
    "                   columns = ['pub'+ str(i) for i in range(1,882)])],\n",
    "               axis = 1)\n",
    "\n",
    "numerical = ['atom_number', 'bonds_number','Mol', 'MorganDensity', 'LogP',\n",
    "            'alone_atom_number', 'doubleBond', 'tripleBond', 'ring_number', 'oh_count', 'MeltingPoint', 'WaterSolubility']\n",
    "\n",
    "categorical = ['obs_duration_mean',\n",
    "               'conc1_type', 'exposure_type', 'control_type', 'media_type',\n",
    "               'application_freq_unit', 'species', 'class', 'tax_order', 'family', 'genus']\n",
    "db.drop(columns = categorical, inplace = True)\n",
    "\n",
    "db = db.groupby('test_cas').agg('median').reset_index()\n",
    "\n",
    "X = db.drop(columns = ['conc1_mean', 'test_cas'])\n",
    "y = np.where(db['conc1_mean']> 1, 0,1)"
   ]
  },
  {
   "cell_type": "code",
   "execution_count": 2,
   "metadata": {},
   "outputs": [
    {
     "data": {
      "text/plain": [
       "<matplotlib.axes._subplots.AxesSubplot at 0x216fff7fa48>"
      ]
     },
     "execution_count": 2,
     "metadata": {},
     "output_type": "execute_result"
    },
    {
     "data": {
      "image/png": "[encoded data removed]",
      "text/plain": [
       "<Figure size 432x288 with 1 Axes>"
      ]
     },
     "metadata": {
      "needs_background": "light"
     },
     "output_type": "display_data"
    }
   ],
   "source": [
    "pd.Series(y).value_counts().plot.bar()"
   ]
  },
  {
   "cell_type": "markdown",
   "metadata": {},
   "source": [
    "# Logistic Regression"
   ]
  },
  {
   "cell_type": "code",
   "execution_count": 2,
   "metadata": {},
   "outputs": [
    {
     "name": "stdout",
     "output_type": "stream",
     "text": [
      "Accuracy: 0.8121919652101883 se: 0.005271322084893018\n",
      "Sensitivity: 0.20150772950679782 se: 0.01776071586349953\n",
      "Specificity: 0.9748310187889757 se: 0.005017089735839413\n",
      "Precision:   0.6905881474846992 se: 0.03890912595731316\n",
      "F1: 0.30806944117606827 se:  0.019118526891697844\n"
     ]
    }
   ],
   "source": [
    "from sklearn.linear_model import LogisticRegression\n",
    "\n",
    "\n",
    "kf = KFold(n_splits=5, shuffle=True, random_state = 5645)\n",
    "accs = []\n",
    "sens = []\n",
    "specs = []\n",
    "precs = []\n",
    "f1s = []\n",
    "\n",
    "for train_index, test_index in kf.split(X):\n",
    "    X_train = X.iloc[train_index]\n",
    "    X_test = X.iloc[test_index]\n",
    "    y_train = y[train_index]\n",
    "    y_test = y[test_index]\n",
    "\n",
    "    minmax = MinMaxScaler()\n",
    "    minmax.fit(X_train[numerical])\n",
    "\n",
    "    new_train = X_train.copy()\n",
    "    new_train.loc[:, numerical] = minmax.transform(X_train[numerical])\n",
    "\n",
    "    new_test = X_test.copy()\n",
    "    new_test.loc[:, numerical] = minmax.transform(X_test[numerical])\n",
    "\n",
    "    lrc = LogisticRegression(n_jobs = -1)\n",
    "    lrc.fit(new_train, y_train)\n",
    "    y_pred = lrc.predict(new_test)\n",
    "\n",
    "    tn, fp, fn, tp = confusion_matrix(y_test, y_pred).ravel()\n",
    "\n",
    "    accs.append(accuracy_score(y_test, y_pred))\n",
    "    sens.append(recall_score(y_test, y_pred))\n",
    "    specs.append(tn/(tn+fp))\n",
    "    precs.append(precision_score(y_test, y_pred))\n",
    "    \n",
    "    f1s.append(f1_score(y_test, y_pred))\n",
    "    \n",
    "print('Accuracy:   ', np.mean(accs), 'se:', sem(accs))\n",
    "print('Sensitivity:', np.mean(sens), 'se:', sem(sens))\n",
    "print('Specificity:', np.mean(specs), 'se:', sem(specs))\n",
    "print('Precision:  ', np.mean(precs), 'se:', sem(precs))\n",
    "print('F1:         ', np.mean(f1s), 'se: ', sem(f1s))"
   ]
  },
  {
   "cell_type": "markdown",
   "metadata": {},
   "source": [
    "# KNN"
   ]
  },
  {
   "cell_type": "code",
   "execution_count": 35,
   "metadata": {},
   "outputs": [
    {
     "data": {
      "text/plain": [
       "Text(0.5, 1.0, 'KNN Table 1')"
      ]
     },
     "execution_count": 35,
     "metadata": {},
     "output_type": "execute_result"
    },
    {
     "data": {
      "image/png": "[encoded data removed]",
      "text/plain": [
       "<Figure size 432x288 with 1 Axes>"
      ]
     },
     "metadata": {
      "needs_background": "light"
     },
     "output_type": "display_data"
    }
   ],
   "source": [
    "from sklearn.metrics import f1_score\n",
    "\n",
    "def knn_tab_1(X, y, k):\n",
    "    \n",
    "    accs = []\n",
    "    sens = []\n",
    "    specs = []\n",
    "    precs = []\n",
    "    f1s = []\n",
    "\n",
    "    kf = KFold(n_splits=5, shuffle=True, random_state = 5645)\n",
    "\n",
    "    for train_index, test_index in kf.split(X):\n",
    "        X_train = X.iloc[train_index]\n",
    "        X_test = X.iloc[test_index]\n",
    "        y_train = y[train_index]\n",
    "        y_test = y[test_index]\n",
    "\n",
    "        minmax = MinMaxScaler()\n",
    "        minmax.fit(X_train[numerical])\n",
    "\n",
    "        new_train = X_train.copy()\n",
    "        new_train.loc[:, numerical] = minmax.transform(X_train[numerical])\n",
    "\n",
    "        new_test = X_test.copy()\n",
    "        new_test.loc[:, numerical] = minmax.transform(X_test[numerical])\n",
    "\n",
    "\n",
    "        knn = KNeighborsClassifier(n_neighbors = k)\n",
    "        knn.fit(new_train, y_train)\n",
    "        y_pred = knn.predict(new_test)\n",
    "        accs.append(accuracy_score(y_test, y_pred))\n",
    "        sens.append(recall_score(y_test, y_pred))\n",
    "\n",
    "        tn, fp, fn, tp = confusion_matrix(y_test, y_pred).ravel()\n",
    "\n",
    "        specs.append(tn/(tn+fp))\n",
    "        precs.append(precision_score(y_test, y_pred))\n",
    "\n",
    "        f1s.append(f1_score(y_test, y_pred))\n",
    "        \n",
    "    return np.mean(accs), sem(accs), np.mean(sens), sem(sens), np.mean(specs), sem(specs), np.mean(precs), sem(precs), np.mean(f1s), sem(f1s)\n",
    "\n",
    "tabk = pd.DataFrame(index = ['Acc', 'St.err Acc', 'Sens', 'St.err Sens', 'Spec', 'St.err Spec', 'Prec', 'St.err Prec',\n",
    "                               'F1', 'St.err F1'])\n",
    "for i in [1,2,3,4,5,7,9,11,21,31]:\n",
    "    tabk = pd.concat([tabk, pd.DataFrame(knn_tab_1(X,y,i), index = ['Acc', 'St.err Acc', 'Sens', 'St.err Sens', 'Spec', 'St.err Spec', 'Prec', 'St.err Prec',\n",
    "                               'F1', 'St.err F1'])], axis = 1)\n",
    "tabk = tabk.T.reset_index(drop = True)\n",
    "tabk['K'] = pd.Series([1,2,3,4,5,7,9,11,21,31])\n",
    "\n",
    "import matplotlib.pyplot as plt\n",
    "\n",
    "plt.plot(tabk['K'], tabk['Acc'], '-o')\n",
    "plt.xlabel('K', fontsize = 15)\n",
    "plt.xlabel('Accuracy', fontsize = 15)\n",
    "plt.title('KNN Table 1')"
   ]
  },
  {
   "cell_type": "code",
   "execution_count": 45,
   "metadata": {},
   "outputs": [
    {
     "name": "stdout",
     "output_type": "stream",
     "text": [
      "\\begin{table}[]\n",
      "\\centering\n",
      "\\begin{tabular}{c||c|c|c|c}\n",
      "K & Accuracy & Recall  & Specificity & F1 \\\\ \\hline \\hline\n",
      "1 & 0.7999 & 0.5208 & 0.874 & 0.522 \\\\\n",
      "2 & 0.8167 & 0.3115 & 0.9513 & 0.415 \\\\\n",
      "3 & 0.8067 & 0.4454 & 0.903 & 0.491 \\\\\n",
      "4 & 0.8163 & 0.312 & 0.9507 & 0.415 \\\\\n",
      "5 & 0.8145 & 0.4174 & 0.9202 & 0.485 \\\\\n",
      "7 & 0.8113 & 0.3872 & 0.9242 & 0.462 \\\\\n",
      "9 & 0.8104 & 0.3675 & 0.9282 & 0.448 \\\\\n",
      "11 & 0.8095 & 0.3638 & 0.9282 & 0.443 \\\\\n",
      "21 & 0.8108 & 0.3216 & 0.9409 & 0.415 \\\\\n",
      "31 & 0.8113 & 0.3025 & 0.9466 & 0.401 \\\\\n",
      "\\end{tabular}\n",
      "\\end{table}\n"
     ]
    }
   ],
   "source": [
    "print(r'''\\begin{table}[]\n",
    "\\centering\n",
    "\\begin{tabular}{c||c|c|c|c}\n",
    "K & Accuracy & Recall  & Specificity & F1 \\\\ \\hline \\hline''')\n",
    "for i in tabk[['K', 'Acc', 'Sens', 'Spec', 'F1']].values:\n",
    "    for j in i:\n",
    "        if i[len(i)-1] == j:\n",
    "            print(np.around(j,3), r'\\\\')\n",
    "        elif i[0] == j:\n",
    "            print(int(j), '&', end = ' ')\n",
    "        else:\n",
    "            print(np.around(j,4), '&', end = ' ')\n",
    "        \n",
    "print(r'''\\end{tabular}\n",
    "\\end{table}''')"
   ]
  },
  {
   "cell_type": "markdown",
   "metadata": {},
   "source": [
    "# Random Forest"
   ]
  },
  {
   "cell_type": "code",
   "execution_count": 38,
   "metadata": {},
   "outputs": [
    {
     "name": "stdout",
     "output_type": "stream",
     "text": [
      "Accuracy:    0.8285607786291157 se: 0.0060221685723021124\n",
      "Sensitivity: 0.41383625249645506 se: 0.017512513441331052\n",
      "Specificity: 0.9391651107048412 se: 0.007288044244821985\n",
      "Precision:   0.6463856362217018 se: 0.02780615461008004\n",
      "F1:          0.5022211179457249 se:  0.013764788717201916\n"
     ]
    }
   ],
   "source": [
    "from sklearn.ensemble import RandomForestClassifier\n",
    "\n",
    "accs = []\n",
    "sens = []\n",
    "specs = []\n",
    "precs = []\n",
    "f1s = []\n",
    "\n",
    "kf = KFold(n_splits=5, shuffle=True, random_state = 5645)\n",
    "for train_index, test_index in kf.split(X):\n",
    "    X_train = X.iloc[train_index]\n",
    "    X_test = X.iloc[test_index]\n",
    "    y_train = y[train_index]\n",
    "    y_test = y[test_index]\n",
    "\n",
    "    minmax = MinMaxScaler()\n",
    "    minmax.fit(X_train[numerical])\n",
    "\n",
    "    new_train = X_train.copy()\n",
    "    new_train.loc[:, numerical] = minmax.transform(X_train[numerical])\n",
    "\n",
    "    new_test = X_test.copy()\n",
    "    new_test.loc[:, numerical] = minmax.transform(X_test[numerical])\n",
    "    \n",
    "    \n",
    "    rfc = RandomForestClassifier()\n",
    "    rfc.fit(new_train, y_train)\n",
    "    y_pred = rfc.predict(new_test)\n",
    "    accs.append(accuracy_score(y_test, y_pred))\n",
    "    sens.append(recall_score(y_test, y_pred))\n",
    "    \n",
    "    tn, fp, fn, tp = confusion_matrix(y_test, y_pred).ravel()\n",
    "    \n",
    "    specs.append(tn/(tn+fp))\n",
    "    precs.append(precision_score(y_test, y_pred))\n",
    "    \n",
    "    f1s.append(f1_score(y_test, y_pred))\n",
    "    \n",
    "print('Accuracy:   ', np.mean(accs), 'se:', sem(accs))\n",
    "print('Sensitivity:', np.mean(sens), 'se:', sem(sens))\n",
    "print('Specificity:', np.mean(specs), 'se:', sem(specs))\n",
    "print('Precision:  ', np.mean(precs), 'se:', sem(precs))\n",
    "print('F1:         ', np.mean(f1s), 'se: ', sem(f1s))"
   ]
  },
  {
   "cell_type": "markdown",
   "metadata": {},
   "source": [
    "# Simple RASAR"
   ]
  },
  {
   "cell_type": "code",
   "execution_count": 6,
   "metadata": {},
   "outputs": [],
   "source": [
    "from sklearn.linear_model import LogisticRegression\n",
    "\n",
    "def right_neighbor(neighbors, X_train, X_train_i):\n",
    "    # IDX Neighbors\n",
    "    idx_neigh_0 = pd.DataFrame(neighbors[1])[0].apply(lambda x: X_train_i.iloc[x].name)\n",
    "    idx_neigh_1 = pd.DataFrame(neighbors[1])[1].apply(lambda x: X_train_i.iloc[x].name)\n",
    "    \n",
    "    idx_neigh = idx_neigh_0.copy()\n",
    "    \n",
    "    # dove l'indice del primo vicino risulta essere uguale a se stesso lo sostituisco con il secondo vicino\n",
    "    idx_neigh[X_train.index == idx_neigh_0] = idx_neigh_1[X_train.index == idx_neigh_0].values\n",
    "    \n",
    "    # Distance from the Nearest Neighbor that is NOT itself\n",
    "    dist_0 = pd.DataFrame(neighbors[0])[0]\n",
    "    dist_1 = pd.DataFrame(neighbors[0])[1]\n",
    "    \n",
    "    distance = dist_0.copy()\n",
    "    distance[X_train.index == idx_neigh_0] = dist_1[X_train.index == idx_neigh_0].values\n",
    "    \n",
    "    return idx_neigh, distance"
   ]
  },
  {
   "cell_type": "code",
   "execution_count": 7,
   "metadata": {},
   "outputs": [
    {
     "name": "stdout",
     "output_type": "stream",
     "text": [
      "Accuracy:    0.8071878235659558 se: 0.007902130855140388\n",
      "Sensitivity: 0.11776220360958403 se: 0.027228724768366477\n",
      "Specificity: 0.9909122276029055 se: 0.005779688436644699\n",
      "Precision:   0.8502742946708464 se: 0.0707112101265878\n",
      "F1: 0.19786296869981665 se:  0.03769662648026407\n"
     ]
    }
   ],
   "source": [
    "accs = []\n",
    "sens = []\n",
    "specs = []\n",
    "precs = []\n",
    "f1s = []\n",
    "\n",
    "kf = KFold(n_splits=5, shuffle=True, random_state = 5645)\n",
    "\n",
    "for train_index, test_index in kf.split(X):\n",
    "    \n",
    "    X_train = X.iloc[train_index]\n",
    "    X_test = X.iloc[test_index]\n",
    "    y_train = y[train_index]\n",
    "    y_test = y[test_index]\n",
    "\n",
    "    minmax = MinMaxScaler()\n",
    "    minmax.fit(X_train[numerical])\n",
    "\n",
    "    new_train = X_train.copy()\n",
    "    new_train.loc[:, numerical] = minmax.transform(X_train[numerical])\n",
    "\n",
    "    new_test = X_test.copy()\n",
    "    new_test.loc[:, numerical] = minmax.transform(X_test[numerical])\n",
    "    \n",
    "    X_train0 = X_train[y_train == 0].copy()\n",
    "    X_train1 = X_train[y_train == 1].copy()\n",
    "\n",
    "    ## DF Train\n",
    "\n",
    "    knn0 = KNeighborsClassifier(n_neighbors = 2)\n",
    "    knn0.fit(X_train0, y_train[y_train == 0])\n",
    "\n",
    "    neigh_train0 = knn0.kneighbors(X_train, return_distance = True)\n",
    "    idx_neigh0, dist0 = right_neighbor(neigh_train0, X_train, X_train0)\n",
    "\n",
    "    knn1 = KNeighborsClassifier(n_neighbors = 2)\n",
    "    knn1.fit(X_train1, y_train[y_train == 1])\n",
    "\n",
    "    neigh_train1 = knn1.kneighbors(X_train, return_distance = True)\n",
    "    idx_neigh1, dist1 = right_neighbor(neigh_train1, X_train, X_train1)\n",
    "\n",
    "    df_rasar_train = pd.DataFrame({'idx_train': X_train.index.values,\n",
    "                          'label_train': y_train,\n",
    "                          'idx_neigh0': idx_neigh0.values,\n",
    "                          'dist_neigh0': dist0,       \n",
    "                          'idx_neigh1': idx_neigh1.values,\n",
    "                          'dist_neigh1': dist1})\n",
    "\n",
    "    # DF test\n",
    "    knn0 = KNeighborsClassifier(n_neighbors = 1)\n",
    "    knn0.fit(X_train0, y_train[y_train == 0])\n",
    "    neigh_test0 = knn0.kneighbors(X_test, return_distance = True)\n",
    "    idx_neigh_test0 = pd.DataFrame(neigh_test0[1])[0].apply(lambda x: X_train0.iloc[x].name)\n",
    "\n",
    "    knn1 = KNeighborsClassifier(n_neighbors = 1)\n",
    "    knn1.fit(X_train1, y_train[y_train == 1])\n",
    "    neigh_test1 = knn1.kneighbors(X_test, return_distance = True)\n",
    "    idx_neigh_test1 = pd.DataFrame(neigh_test1[1])[0].apply(lambda x: X_train1.iloc[x].name)\n",
    "\n",
    "    df_rasar_test = pd.DataFrame({'idx_test': X_test.index.values,\n",
    "                  'label_test': y_test,\n",
    "                  'idx_neigh0': idx_neigh_test0.values,\n",
    "                  'dist_neigh0': neigh_test0[0].ravel(),\n",
    "                  'idx_neigh1': idx_neigh_test1.values,\n",
    "                  'dist_neigh1': neigh_test1[0].ravel()})\n",
    "\n",
    "\n",
    "    lrc = LogisticRegression()\n",
    "    lrc.fit(df_rasar_train[['dist_neigh0','dist_neigh1']], y_train)\n",
    "    y_pred = lrc.predict(df_rasar_test[['dist_neigh0','dist_neigh1']])\n",
    "    accs.append(accuracy_score(y_test, y_pred))\n",
    "    sens.append(recall_score(y_test, y_pred))\n",
    "    \n",
    "    tn, fp, fn, tp = confusion_matrix(y_test, y_pred).ravel()\n",
    "    \n",
    "    specs.append(tn/(tn+fp))\n",
    "    precs.append(precision_score(y_test, y_pred))\n",
    "    \n",
    "    f1s.append(f1_score(y_test, y_pred))\n",
    "    \n",
    "print('Accuracy:   ', np.mean(accs), 'se:', sem(accs))\n",
    "print('Sensitivity:', np.mean(sens), 'se:', sem(sens))\n",
    "print('Specificity:', np.mean(specs), 'se:', sem(specs))\n",
    "print('Precision:  ', np.mean(precs), 'se:', sem(precs))\n",
    "print('F1:         ', np.mean(f1s), 'se: ', sem(f1s))"
   ]
  },
  {
   "cell_type": "markdown",
   "metadata": {},
   "source": [
    "# Simple RASAR con RF"
   ]
  },
  {
   "cell_type": "code",
   "execution_count": 9,
   "metadata": {},
   "outputs": [
    {
     "name": "stdout",
     "output_type": "stream",
     "text": [
      "Accuracy:    0.7794491613170429 se: 0.010117353018028206\n",
      "Sensitivity: 0.2611307492061531 se: 0.028706753973234293\n",
      "Specificity: 0.917030366269256 se: 0.005301088697124177\n",
      "Precision:   0.4506295739288303 se: 0.02605383872708216\n",
      "F1:          0.3294599607524981 se:  0.02968803493173642\n"
     ]
    }
   ],
   "source": [
    "from sklearn.ensemble import RandomForestClassifier\n",
    "\n",
    "accs = []\n",
    "sens = []\n",
    "specs = []\n",
    "precs = []\n",
    "f1s = []\n",
    "\n",
    "kf = KFold(n_splits=5, shuffle=True, random_state = 5645)\n",
    "\n",
    "for train_index, test_index in kf.split(X):\n",
    "    \n",
    "    X_train = X.iloc[train_index]\n",
    "    X_test = X.iloc[test_index]\n",
    "    y_train = y[train_index]\n",
    "    y_test = y[test_index]\n",
    "\n",
    "    minmax = MinMaxScaler()\n",
    "    minmax.fit(X_train[numerical])\n",
    "\n",
    "    new_train = X_train.copy()\n",
    "    new_train.loc[:, numerical] = minmax.transform(X_train[numerical])\n",
    "\n",
    "    new_test = X_test.copy()\n",
    "    new_test.loc[:, numerical] = minmax.transform(X_test[numerical])\n",
    "    \n",
    "    X_train0 = X_train[y_train == 0].copy()\n",
    "    X_train1 = X_train[y_train == 1].copy()\n",
    "\n",
    "    ## DF Train\n",
    "\n",
    "    knn0 = KNeighborsClassifier(n_neighbors = 2)\n",
    "    knn0.fit(X_train0, y_train[y_train == 0])\n",
    "\n",
    "    neigh_train0 = knn0.kneighbors(X_train, return_distance = True)\n",
    "    idx_neigh0, dist0 = right_neighbor(neigh_train0, X_train, X_train0)\n",
    "\n",
    "    knn1 = KNeighborsClassifier(n_neighbors = 2)\n",
    "    knn1.fit(X_train1, y_train[y_train == 1])\n",
    "\n",
    "    neigh_train1 = knn1.kneighbors(X_train, return_distance = True)\n",
    "    idx_neigh1, dist1 = right_neighbor(neigh_train1, X_train, X_train1)\n",
    "\n",
    "    df_rasar_train = pd.DataFrame({'idx_train': X_train.index.values,\n",
    "                          'label_train': y_train,\n",
    "                          'idx_neigh0': idx_neigh0.values,\n",
    "                          'dist_neigh0': dist0,       \n",
    "                          'idx_neigh1': idx_neigh1.values,\n",
    "                          'dist_neigh1': dist1})\n",
    "\n",
    "    # DF test\n",
    "    knn0 = KNeighborsClassifier(n_neighbors = 1)\n",
    "    knn0.fit(X_train0, y_train[y_train == 0])\n",
    "    neigh_test0 = knn0.kneighbors(X_test, return_distance = True)\n",
    "    idx_neigh_test0 = pd.DataFrame(neigh_test0[1])[0].apply(lambda x: X_train0.iloc[x].name)\n",
    "\n",
    "    knn1 = KNeighborsClassifier(n_neighbors = 1)\n",
    "    knn1.fit(X_train1, y_train[y_train == 1])\n",
    "    neigh_test1 = knn1.kneighbors(X_test, return_distance = True)\n",
    "    idx_neigh_test1 = pd.DataFrame(neigh_test1[1])[0].apply(lambda x: X_train1.iloc[x].name)\n",
    "\n",
    "    df_rasar_test = pd.DataFrame({'idx_test': X_test.index.values,\n",
    "                  'label_test': y_test,\n",
    "                  'idx_neigh0': idx_neigh_test0.values,\n",
    "                  'dist_neigh0': neigh_test0[0].ravel(),\n",
    "                  'idx_neigh1': idx_neigh_test1.values,\n",
    "                  'dist_neigh1': neigh_test1[0].ravel()})\n",
    "\n",
    "\n",
    "    clf = RandomForestClassifier()\n",
    "    clf.fit(df_rasar_train[['dist_neigh0','dist_neigh1']], y_train)\n",
    "    y_pred = clf.predict(df_rasar_test[['dist_neigh0','dist_neigh1']])\n",
    "    accs.append(accuracy_score(y_test, y_pred))\n",
    "    sens.append(recall_score(y_test, y_pred))\n",
    "    \n",
    "    tn, fp, fn, tp = confusion_matrix(y_test, y_pred).ravel()\n",
    "    \n",
    "    specs.append(tn/(tn+fp))\n",
    "    precs.append(precision_score(y_test, y_pred))\n",
    "    \n",
    "    f1s.append(f1_score(y_test, y_pred))\n",
    "    \n",
    "print('Accuracy:   ', np.mean(accs), 'se:', sem(accs))\n",
    "print('Sensitivity:', np.mean(sens), 'se:', sem(sens))\n",
    "print('Specificity:', np.mean(specs), 'se:', sem(specs))\n",
    "print('Precision:  ', np.mean(precs), 'se:', sem(precs))\n",
    "print('F1:         ', np.mean(f1s), 'se: ', sem(f1s))"
   ]
  }
 ],
 "metadata": {
  "kernelspec": {
   "display_name": "Python 3",
   "language": "python",
   "name": "python3"
  },
  "language_info": {
   "codemirror_mode": {
    "name": "ipython",
    "version": 3
   },
   "file_extension": ".py",
   "mimetype": "text/x-python",
   "name": "python",
   "nbconvert_exporter": "python",
   "pygments_lexer": "ipython3",
   "version": "3.7.7"
  }
 },
 "nbformat": 4,
 "nbformat_minor": 4
}
