{
 "cells": [
  {
   "cell_type": "code",
   "execution_count": 4,
   "metadata": {},
   "outputs": [
    {
     "data": {
      "image/png": "[encoded data removed]",
      "text/plain": [
       "<Figure size 432x288 with 1 Axes>"
      ]
     },
     "metadata": {
      "needs_background": "light"
     },
     "output_type": "display_data"
    }
   ],
   "source": [
    "import pandas as pd\n",
    "import numpy as np\n",
    "import matplotlib.pyplot as plt\n",
    "\n",
    "db = pd.read_csv('lc_db_processed.csv')[['test_cas', 'conc1_mean', 'fish']]\n",
    "db = db.groupby(['test_cas', 'fish']).agg('median').reset_index()\n",
    "db['conc1_mean'] = np.where(db['conc1_mean'] > 1, 0, 1)\n",
    "\n",
    "lst = list()\n",
    "lst_cas = list()\n",
    "for tc in db.test_cas.unique():\n",
    "    tmp = db[['conc1_mean','fish']][db.test_cas == tc]\n",
    "    if len(tmp.fish.unique()) == 1:\n",
    "        continue\n",
    "    try:\n",
    "        lst.append(tmp.conc1_mean.value_counts()[1]/len(tmp))\n",
    "        lst_cas.append(tc)\n",
    "    except:\n",
    "        lst.append(0)\n",
    "        lst_cas.append(tc)\n",
    "\n",
    "plt.hist(lst, bins = 50, log = True, color = 'royalblue')\n",
    "plt.xlabel(r'$f$', fontsize = 15)\n",
    "plt.ylabel(r'$h(f)$', fontsize = 15)\n",
    "plt.ylim(10**0, 10**3)\n",
    "plt.show()"
   ]
  },
  {
   "cell_type": "code",
   "execution_count": 10,
   "metadata": {},
   "outputs": [
    {
     "data": {
      "image/png": "[encoded data removed]",
      "text/plain": [
       "<Figure size 432x288 with 1 Axes>"
      ]
     },
     "metadata": {
      "needs_background": "light"
     },
     "output_type": "display_data"
    }
   ],
   "source": [
    "plt.hist(lst, bins = 50, log = True, color = 'royalblue')\n",
    "plt.xlabel(r'$f$', fontsize = 15)\n",
    "plt.ylabel(r'$h(f)$', fontsize = 15)\n",
    "plt.ylim(10**0, 10**3)\n",
    "plt.savefig(r'C:\\Users\\Simone\\Desktop\\prop_tox_chem.png')"
   ]
  },
  {
   "cell_type": "code",
   "execution_count": null,
   "metadata": {},
   "outputs": [],
   "source": [
    "plt.ylabel"
   ]
  }
 ],
 "metadata": {
  "kernelspec": {
   "display_name": "Python 3",
   "language": "python",
   "name": "python3"
  },
  "language_info": {
   "codemirror_mode": {
    "name": "ipython",
    "version": 3
   },
   "file_extension": ".py",
   "mimetype": "text/x-python",
   "name": "python",
   "nbconvert_exporter": "python",
   "pygments_lexer": "ipython3",
   "version": "3.7.7"
  }
 },
 "nbformat": 4,
 "nbformat_minor": 4
}
