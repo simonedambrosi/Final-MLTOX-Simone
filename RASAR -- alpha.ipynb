{
 "cells": [
  {
   "cell_type": "code",
   "execution_count": 1,
   "metadata": {},
   "outputs": [],
   "source": [
    "# caricamento dati da K-NN\n",
    "from helper_rasar_simple_alpha import *\n",
    "\n",
    "X_try, _, _, y_train, y_test, _ = load_data_rasar('lc_db_processed.csv', 'binary')\n",
    "\n",
    "# _, X_train, _, y_train, _, _ = load_data_rasar('lc_db_processed.csv', 'binary')\n",
    "\n",
    "# del _\n"
   ]
  },
  {
   "cell_type": "markdown",
   "metadata": {},
   "source": [
    "# SIMPLE RASAR"
   ]
  },
  {
   "cell_type": "code",
   "execution_count": 2,
   "metadata": {
    "collapsed": true
   },
   "outputs": [
    {
     "name": "stdout",
     "output_type": "stream",
     "text": [
      "Computing distance matrix Sat Mar 20 21:54:17 2021\n",
      "Epoch 1:  Sat Mar 20 22:00:59 2021\n",
      "Epoch 2:  Sat Mar 20 22:03:10 2021\n",
      "Epoch 3:  Sat Mar 20 22:06:37 2021\n",
      "Epoch 4:  Sat Mar 20 22:09:41 2021\n",
      "Epoch 5:  Sat Mar 20 22:12:25 2021\n",
      "...END Simple RASAR Sat Mar 20 22:15:08 2021\n",
      "Accuracy:    0.9131061146029072 se: 0.0020231509943683516\n",
      "Sensitivity: 0.9214146615863793 se: 0.003168908416700975\n",
      "Specificity: 0.8997743564555775 se: 0.0034253900707390864\n",
      "F1 score:    0.9289905022933752 se: 0.0017247646520609935\n"
     ]
    }
   ],
   "source": [
    "cv_simple_rasar_alpha(X_try, np.concatenate([y_train, y_test]))"
   ]
  },
  {
   "cell_type": "markdown",
   "metadata": {},
   "source": [
    "### ottimizzo i parametri della regressione logistica interna"
   ]
  },
  {
   "cell_type": "code",
   "execution_count": 2,
   "metadata": {
    "collapsed": true
   },
   "outputs": [
    {
     "name": "stdout",
     "output_type": "stream",
     "text": [
      "Tue Mar 23 19:10:13 2021\n",
      "Epoch 1:  Tue Mar 23 19:15:38 2021\n",
      "Epoch 2:  Tue Mar 23 19:16:41 2021\n",
      "Epoch 3:  Tue Mar 23 19:17:38 2021\n",
      "Epoch 4:  Tue Mar 23 19:18:36 2021\n",
      "Epoch 5:  Tue Mar 23 19:19:34 2021\n",
      "Tue Mar 23 19:20:32 2021\n"
     ]
    },
    {
     "data": {
      "text/html": [
       "<div>\n",
       "<style scoped>\n",
       "    .dataframe tbody tr th:only-of-type {\n",
       "        vertical-align: middle;\n",
       "    }\n",
       "\n",
       "    .dataframe tbody tr th {\n",
       "        vertical-align: top;\n",
       "    }\n",
       "\n",
       "    .dataframe thead th {\n",
       "        text-align: right;\n",
       "    }\n",
       "</style>\n",
       "<table border=\"1\" class=\"dataframe\">\n",
       "  <thead>\n",
       "    <tr style=\"text-align: right;\">\n",
       "      <th></th>\n",
       "      <th>solver</th>\n",
       "      <th>penalty</th>\n",
       "      <th>max_iter</th>\n",
       "      <th>l1_ratio</th>\n",
       "      <th>fit_intercept</th>\n",
       "      <th>C</th>\n",
       "      <th>test_acc</th>\n",
       "      <th>test_sens</th>\n",
       "      <th>test_spec</th>\n",
       "      <th>test_f1</th>\n",
       "    </tr>\n",
       "  </thead>\n",
       "  <tbody>\n",
       "    <tr>\n",
       "      <th>mod0</th>\n",
       "      <td>saga</td>\n",
       "      <td>elasticnet</td>\n",
       "      <td>600</td>\n",
       "      <td>0.5</td>\n",
       "      <td>False</td>\n",
       "      <td>0.001</td>\n",
       "      <td>0.384131</td>\n",
       "      <td>0.000000</td>\n",
       "      <td>1.000000</td>\n",
       "      <td>0.000000</td>\n",
       "    </tr>\n",
       "    <tr>\n",
       "      <th>mod1</th>\n",
       "      <td>saga</td>\n",
       "      <td>elasticnet</td>\n",
       "      <td>400</td>\n",
       "      <td>0.5</td>\n",
       "      <td>False</td>\n",
       "      <td>1000.000</td>\n",
       "      <td>0.901743</td>\n",
       "      <td>0.939799</td>\n",
       "      <td>0.840606</td>\n",
       "      <td>0.921768</td>\n",
       "    </tr>\n",
       "    <tr>\n",
       "      <th>mod2</th>\n",
       "      <td>saga</td>\n",
       "      <td>elasticnet</td>\n",
       "      <td>600</td>\n",
       "      <td>0.1</td>\n",
       "      <td>False</td>\n",
       "      <td>0.001</td>\n",
       "      <td>0.623137</td>\n",
       "      <td>0.997593</td>\n",
       "      <td>0.022770</td>\n",
       "      <td>0.765276</td>\n",
       "    </tr>\n",
       "    <tr>\n",
       "      <th>mod3</th>\n",
       "      <td>saga</td>\n",
       "      <td>elasticnet</td>\n",
       "      <td>700</td>\n",
       "      <td>0.2</td>\n",
       "      <td>False</td>\n",
       "      <td>1000.000</td>\n",
       "      <td>0.901743</td>\n",
       "      <td>0.939799</td>\n",
       "      <td>0.840606</td>\n",
       "      <td>0.921768</td>\n",
       "    </tr>\n",
       "    <tr>\n",
       "      <th>mod4</th>\n",
       "      <td>saga</td>\n",
       "      <td>elasticnet</td>\n",
       "      <td>400</td>\n",
       "      <td>0.6</td>\n",
       "      <td>True</td>\n",
       "      <td>0.100</td>\n",
       "      <td>0.887579</td>\n",
       "      <td>0.956816</td>\n",
       "      <td>0.776826</td>\n",
       "      <td>0.912900</td>\n",
       "    </tr>\n",
       "    <tr>\n",
       "      <th>...</th>\n",
       "      <td>...</td>\n",
       "      <td>...</td>\n",
       "      <td>...</td>\n",
       "      <td>...</td>\n",
       "      <td>...</td>\n",
       "      <td>...</td>\n",
       "      <td>...</td>\n",
       "      <td>...</td>\n",
       "      <td>...</td>\n",
       "      <td>...</td>\n",
       "    </tr>\n",
       "    <tr>\n",
       "      <th>mod145</th>\n",
       "      <td>saga</td>\n",
       "      <td>elasticnet</td>\n",
       "      <td>700</td>\n",
       "      <td>0.8</td>\n",
       "      <td>False</td>\n",
       "      <td>100.000</td>\n",
       "      <td>0.901743</td>\n",
       "      <td>0.939799</td>\n",
       "      <td>0.840606</td>\n",
       "      <td>0.921768</td>\n",
       "    </tr>\n",
       "    <tr>\n",
       "      <th>mod146</th>\n",
       "      <td>saga</td>\n",
       "      <td>elasticnet</td>\n",
       "      <td>200</td>\n",
       "      <td>0.5</td>\n",
       "      <td>True</td>\n",
       "      <td>100.000</td>\n",
       "      <td>0.903152</td>\n",
       "      <td>0.913068</td>\n",
       "      <td>0.887198</td>\n",
       "      <td>0.920692</td>\n",
       "    </tr>\n",
       "    <tr>\n",
       "      <th>mod147</th>\n",
       "      <td>saga</td>\n",
       "      <td>elasticnet</td>\n",
       "      <td>400</td>\n",
       "      <td>1.0</td>\n",
       "      <td>False</td>\n",
       "      <td>0.001</td>\n",
       "      <td>0.384131</td>\n",
       "      <td>0.000000</td>\n",
       "      <td>1.000000</td>\n",
       "      <td>0.000000</td>\n",
       "    </tr>\n",
       "    <tr>\n",
       "      <th>mod148</th>\n",
       "      <td>saga</td>\n",
       "      <td>elasticnet</td>\n",
       "      <td>200</td>\n",
       "      <td>0.6</td>\n",
       "      <td>True</td>\n",
       "      <td>0.010</td>\n",
       "      <td>0.615869</td>\n",
       "      <td>1.000000</td>\n",
       "      <td>0.000000</td>\n",
       "      <td>0.762264</td>\n",
       "    </tr>\n",
       "    <tr>\n",
       "      <th>mod149</th>\n",
       "      <td>saga</td>\n",
       "      <td>elasticnet</td>\n",
       "      <td>600</td>\n",
       "      <td>1.0</td>\n",
       "      <td>True</td>\n",
       "      <td>10.000</td>\n",
       "      <td>0.903077</td>\n",
       "      <td>0.912827</td>\n",
       "      <td>0.887387</td>\n",
       "      <td>0.920616</td>\n",
       "    </tr>\n",
       "  </tbody>\n",
       "</table>\n",
       "<p>150 rows × 10 columns</p>\n",
       "</div>"
      ],
      "text/plain": [
       "       solver     penalty  max_iter  l1_ratio  fit_intercept         C  \\\n",
       "mod0     saga  elasticnet       600       0.5          False     0.001   \n",
       "mod1     saga  elasticnet       400       0.5          False  1000.000   \n",
       "mod2     saga  elasticnet       600       0.1          False     0.001   \n",
       "mod3     saga  elasticnet       700       0.2          False  1000.000   \n",
       "mod4     saga  elasticnet       400       0.6           True     0.100   \n",
       "...       ...         ...       ...       ...            ...       ...   \n",
       "mod145   saga  elasticnet       700       0.8          False   100.000   \n",
       "mod146   saga  elasticnet       200       0.5           True   100.000   \n",
       "mod147   saga  elasticnet       400       1.0          False     0.001   \n",
       "mod148   saga  elasticnet       200       0.6           True     0.010   \n",
       "mod149   saga  elasticnet       600       1.0           True    10.000   \n",
       "\n",
       "        test_acc  test_sens  test_spec   test_f1  \n",
       "mod0    0.384131   0.000000   1.000000  0.000000  \n",
       "mod1    0.901743   0.939799   0.840606  0.921768  \n",
       "mod2    0.623137   0.997593   0.022770  0.765276  \n",
       "mod3    0.901743   0.939799   0.840606  0.921768  \n",
       "mod4    0.887579   0.956816   0.776826  0.912900  \n",
       "...          ...        ...        ...       ...  \n",
       "mod145  0.901743   0.939799   0.840606  0.921768  \n",
       "mod146  0.903152   0.913068   0.887198  0.920692  \n",
       "mod147  0.384131   0.000000   1.000000  0.000000  \n",
       "mod148  0.615869   1.000000   0.000000  0.762264  \n",
       "mod149  0.903077   0.912827   0.887387  0.920616  \n",
       "\n",
       "[150 rows x 10 columns]"
      ]
     },
     "execution_count": 2,
     "metadata": {},
     "output_type": "execute_result"
    }
   ],
   "source": [
    "hyper_params_tune = {\n",
    "    'C': [0.001, 0.01, 0.1, 1, 10, 100, 1000],\n",
    "    'penalty': ['elasticnet'],\n",
    "    'max_iter': list(range(100,800,100)),\n",
    "    'l1_ratio': [int(i)/10 for i in range(0,11,1)],\n",
    "    'solver': ['saga'],\n",
    "    'fit_intercept': [True, False]\n",
    "}\n",
    "\n",
    "tab = cv_params_simple_rasar_alpha(X_train, y_train, hyper_params_tune)"
   ]
  },
  {
   "cell_type": "code",
   "execution_count": 12,
   "metadata": {
    "collapsed": true
   },
   "outputs": [
    {
     "name": "stdout",
     "output_type": "stream",
     "text": [
      "{'solver': 'saga', 'penalty': 'elasticnet', 'max_iter': 100, 'l1_ratio': 0.8, 'fit_intercept': True, 'C': 1.0}\n"
     ]
    }
   ],
   "source": [
    "tab[tab.test_acc == tab.test_acc.max()].to_dict('records')[0]\n",
    "params_tuned = tab[tab.test_acc == tab.test_acc.max()].to_dict('records')[0]\n",
    "del params_tuned['test_acc']\n",
    "del params_tuned['test_sens']\n",
    "del params_tuned['test_spec']\n",
    "del params_tuned['test_f1']\n",
    "print(params_tuned)"
   ]
  },
  {
   "cell_type": "code",
   "execution_count": 2,
   "metadata": {
    "collapsed": true
   },
   "outputs": [
    {
     "name": "stdout",
     "output_type": "stream",
     "text": [
      "{'solver': 'saga', 'penalty': 'elasticnet', 'max_iter': 100, 'l1_ratio': 0.8, 'fit_intercept': True, 'C': 1.0}\n",
      "Computing distance matrix Tue Mar 23 19:38:55 2021\n",
      "Epoch 1:  Tue Mar 23 19:45:52 2021\n",
      "Epoch 2:  Tue Mar 23 19:48:27 2021\n",
      "Epoch 3:  Tue Mar 23 19:52:38 2021\n",
      "Epoch 4:  Tue Mar 23 19:56:12 2021\n",
      "Epoch 5:  Tue Mar 23 19:58:31 2021\n",
      "...END Simple RASAR Tue Mar 23 20:01:39 2021\n",
      "Accuracy:    0.9127086854699116 se: 0.0019390904766548058\n",
      "Sensitivity: 0.9182710043329753 se: 0.0029207913081512075\n",
      "Specificity: 0.9037861040240266 se: 0.0025628461971642148\n",
      "F1 score:    0.9284621207086456 se: 0.001667491828267933\n"
     ]
    }
   ],
   "source": [
    "# interpretazioni al contrario di specificity e recall\n",
    "params_tuned = {'solver': 'saga', 'penalty': 'elasticnet', 'max_iter': 100,\n",
    "                'l1_ratio': 0.8, 'fit_intercept': True, 'C': 1.0}\n",
    "print(params_tuned)\n",
    "cv_simple_rasar_alpha(X_try, np.concatenate([y_train, y_test]), hyper_params = params_tuned)"
   ]
  },
  {
   "cell_type": "markdown",
   "metadata": {},
   "source": [
    "# DF RASAR"
   ]
  },
  {
   "cell_type": "code",
   "execution_count": null,
   "metadata": {},
   "outputs": [],
   "source": [
    "from helper_rasar_datafusion_alpha import *\n",
    "\n"
   ]
  }
 ],
 "metadata": {
  "kernelspec": {
   "display_name": "Python 3",
   "language": "python",
   "name": "python3"
  },
  "language_info": {
   "codemirror_mode": {
    "name": "ipython",
    "version": 3
   },
   "file_extension": ".py",
   "mimetype": "text/x-python",
   "name": "python",
   "nbconvert_exporter": "python",
   "pygments_lexer": "ipython3",
   "version": "3.7.7"
  }
 },
 "nbformat": 4,
 "nbformat_minor": 4
}
